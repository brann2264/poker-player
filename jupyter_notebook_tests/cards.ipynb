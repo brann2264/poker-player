{
 "cells": [
  {
   "cell_type": "code",
   "execution_count": 3,
   "metadata": {},
   "outputs": [],
   "source": [
    "from collections import Counter\n",
    "from enum import IntEnum\n",
    "from collections import namedtuple\n",
    "import numpy as np\n",
    "import operator\n",
    "import pandas as pd\n",
    "import random"
   ]
  },
  {
   "cell_type": "code",
   "execution_count": 4,
   "metadata": {},
   "outputs": [],
   "source": [
    "class card:\n",
    "\n",
    "    def __init__(self, suit, value):\n",
    "        self.suit = suit\n",
    "        self.value = value\n",
    "        self.values = {14:\"Ace\", 13:\"King\", 12:\"Queen\", 11:\"Jack\", 10:\"10\", 9:\"9\", 8:\"8\", 7:\"7\", 6:\"6\", 5:\"5\", 4:\"4\", 3:\"3\", 2:\"2\"}\n",
    "    \n",
    "    def __eq__ (self, other):\n",
    "        return (self.value == other.value)\n",
    "\n",
    "    def __ne__ (self, other):\n",
    "        return (self.value != other.value)\n",
    "\n",
    "    def __lt__ (self, other):\n",
    "        return (self.value < other.value)\n",
    "\n",
    "    def __le__ (self, other):\n",
    "        return (self.value <= other.value)\n",
    "\n",
    "    def __gt__ (self, other):\n",
    "        return (self.value > other.value)\n",
    "\n",
    "    def __ge__ (self, other):\n",
    "        return (self.value >= other.value)\n",
    "    \n",
    "    def __add__ (self, int):\n",
    "        return card(self.suit, self.value+1)\n",
    "    \n",
    "    def __sub__ (self, int):\n",
    "        return card(self.suit, self.value-1)\n",
    "    \n",
    "    def __repr__(self):\n",
    "        return f'{self.values[self.value]} of {self.suit}'\n",
    "\n",
    "class card_array:\n",
    "\n",
    "    def __init__(self, cards):\n",
    "        self.cards = np.array(cards)\n",
    "        self.suits = np.array([card.suit for card in cards])\n",
    "        self.values = np.array([card.value for card in cards])"
   ]
  },
  {
   "cell_type": "code",
   "execution_count": 5,
   "metadata": {},
   "outputs": [],
   "source": [
    "deck = []\n",
    "suits = {\"Diamonds\": 0, \"Clubs\": 1, \"Hearts\":2, \"Spades\":3}\n",
    "values = {14:\"Ace\", 13:\"King\", 12:\"Queen\", 11:\"Jack\", 10:\"10\", 9:\"9\", 8:\"8\", 7:\"7\", 6:\"6\", 5:\"5\", 4:\"4\", 3:\"3\", 2:\"2\"}\n",
    "for value in values.keys():\n",
    "    for suit in suits.keys():\n",
    "        deck.append(card(suit, value))"
   ]
  },
  {
   "cell_type": "code",
   "execution_count": 107,
   "metadata": {},
   "outputs": [],
   "source": [
    "# hand = card_array(random.sample(deck, 7))\n",
    "hand = card_array([card('Clubs', 2), card('Hearts', 14), card('Spades', 13), card(\"Clubs\", 13), card(\"Hearts\", 7), card(\"Diamond\", 11), card(\"Clubs\", 12), card(\"Clubs\", 9)])"
   ]
  },
  {
   "cell_type": "code",
   "execution_count": 7,
   "metadata": {},
   "outputs": [],
   "source": [
    "sorted_deck = sorted(deck, key=operator.attrgetter(\"suit\"))"
   ]
  },
  {
   "cell_type": "code",
   "execution_count": 24,
   "metadata": {},
   "outputs": [
    {
     "data": {
      "text/plain": [
       "array([Ace of Hearts, 7 of Hearts], dtype=object)"
      ]
     },
     "execution_count": 24,
     "metadata": {},
     "output_type": "execute_result"
    }
   ],
   "source": [
    "hand.cards[hand.suits']"
   ]
  },
  {
   "cell_type": "code",
   "execution_count": 132,
   "metadata": {},
   "outputs": [
    {
     "ename": "IndexError",
     "evalue": "index 4 is out of bounds for axis 0 with size 4",
     "output_type": "error",
     "traceback": [
      "\u001b[0;31m---------------------------------------------------------------------------\u001b[0m",
      "\u001b[0;31mIndexError\u001b[0m                                Traceback (most recent call last)",
      "Cell \u001b[0;32mIn[132], line 2\u001b[0m\n\u001b[1;32m      1\u001b[0m \u001b[38;5;28;01mfor\u001b[39;00m col \u001b[38;5;129;01min\u001b[39;00m \u001b[38;5;28mbool\u001b[39m[:]:\n\u001b[0;32m----> 2\u001b[0m     \u001b[38;5;28mbool\u001b[39m \u001b[38;5;241m=\u001b[39m \u001b[43mnp\u001b[49m\u001b[38;5;241;43m.\u001b[39;49m\u001b[43mdelete\u001b[49m\u001b[43m(\u001b[49m\u001b[38;5;28;43mbool\u001b[39;49m\u001b[43m,\u001b[49m\u001b[43m \u001b[49m\u001b[43mnp\u001b[49m\u001b[38;5;241;43m.\u001b[39;49m\u001b[43margwhere\u001b[49m\u001b[43m(\u001b[49m\u001b[43mcol\u001b[49m\u001b[43m \u001b[49m\u001b[38;5;241;43m==\u001b[39;49m\u001b[43m \u001b[49m\u001b[38;5;28;43;01mFalse\u001b[39;49;00m\u001b[43m)\u001b[49m\u001b[43m,\u001b[49m\u001b[43m \u001b[49m\u001b[43maxis\u001b[49m\u001b[38;5;241;43m=\u001b[39;49m\u001b[38;5;241;43m0\u001b[39;49m\u001b[43m)\u001b[49m\n",
      "File \u001b[0;32m~/miniconda3/envs/pokerRL/lib/python3.9/site-packages/numpy/lib/function_base.py:5329\u001b[0m, in \u001b[0;36mdelete\u001b[0;34m(arr, obj, axis)\u001b[0m\n\u001b[1;32m   5326\u001b[0m \u001b[39mif\u001b[39;00m single_value:\n\u001b[1;32m   5327\u001b[0m     \u001b[39m# optimization for a single value\u001b[39;00m\n\u001b[1;32m   5328\u001b[0m     \u001b[39mif\u001b[39;00m (obj \u001b[39m<\u001b[39m \u001b[39m-\u001b[39mN \u001b[39mor\u001b[39;00m obj \u001b[39m>\u001b[39m\u001b[39m=\u001b[39m N):\n\u001b[0;32m-> 5329\u001b[0m         \u001b[39mraise\u001b[39;00m \u001b[39mIndexError\u001b[39;00m(\n\u001b[1;32m   5330\u001b[0m             \u001b[39m\"\u001b[39m\u001b[39mindex \u001b[39m\u001b[39m%i\u001b[39;00m\u001b[39m is out of bounds for axis \u001b[39m\u001b[39m%i\u001b[39;00m\u001b[39m with \u001b[39m\u001b[39m\"\u001b[39m\n\u001b[1;32m   5331\u001b[0m             \u001b[39m\"\u001b[39m\u001b[39msize \u001b[39m\u001b[39m%i\u001b[39;00m\u001b[39m\"\u001b[39m \u001b[39m%\u001b[39m (obj, axis, N))\n\u001b[1;32m   5332\u001b[0m     \u001b[39mif\u001b[39;00m (obj \u001b[39m<\u001b[39m \u001b[39m0\u001b[39m):\n\u001b[1;32m   5333\u001b[0m         obj \u001b[39m+\u001b[39m\u001b[39m=\u001b[39m N\n",
      "\u001b[0;31mIndexError\u001b[0m: index 4 is out of bounds for axis 0 with size 4"
     ]
    }
   ],
   "source": [
    "for col in bool[:]:\n",
    "    bool = np.delete(bool, np.argwhere(col == False), axis=0)\n"
   ]
  },
  {
   "cell_type": "code",
   "execution_count": 157,
   "metadata": {},
   "outputs": [
    {
     "data": {
      "text/plain": [
       "0"
      ]
     },
     "execution_count": 157,
     "metadata": {},
     "output_type": "execute_result"
    }
   ],
   "source": [
    "a = [3,2,1,0]\n",
    "np.argmax(a)"
   ]
  },
  {
   "cell_type": "code",
   "execution_count": 156,
   "metadata": {},
   "outputs": [
    {
     "data": {
      "text/plain": [
       "3210"
      ]
     },
     "execution_count": 156,
     "metadata": {},
     "output_type": "execute_result"
    }
   ],
   "source": [
    "int(\"\".join(str(x) for x in a))"
   ]
  },
  {
   "cell_type": "code",
   "execution_count": 138,
   "metadata": {},
   "outputs": [],
   "source": [
    "p = np.array([a,a,a,b,c,d])\n",
    "bool = p == np.max(p,axis=0)"
   ]
  },
  {
   "cell_type": "code",
   "execution_count": 111,
   "metadata": {},
   "outputs": [
    {
     "data": {
      "text/plain": [
       "(7, (13, array([11, 12, 14])))"
      ]
     },
     "execution_count": 111,
     "metadata": {},
     "output_type": "execute_result"
    }
   ],
   "source": [
    "ranking, combo3 = getBestHand(hand)\n",
    "ranking, combo1"
   ]
  },
  {
   "cell_type": "code",
   "execution_count": 115,
   "metadata": {},
   "outputs": [
    {
     "data": {
      "text/plain": [
       "[(13, array([11, 12, 14])),\n",
       " (13, array([11, 12, 14])),\n",
       " (13, array([11, 12, 14]))]"
      ]
     },
     "execution_count": 115,
     "metadata": {},
     "output_type": "execute_result"
    }
   ],
   "source": [
    "combos = [combo1,combo2,combo3]\n",
    "combos[:]"
   ]
  },
  {
   "cell_type": "code",
   "execution_count": 94,
   "metadata": {},
   "outputs": [],
   "source": [
    "def isDouble(cards_array):\n",
    "    doubles = []\n",
    "    values_counter = Counter(cards_array.values)\n",
    "    for key in values_counter.keys():\n",
    "        if values_counter[key] == 2:\n",
    "            doubles.append(key)\n",
    "    if len(doubles) != 0:\n",
    "        return np.sort(doubles)\n",
    "    return 0\n",
    "\n",
    "def isTriple(cards_array):\n",
    "    triples = []\n",
    "    values_counter = Counter(cards_array.values)\n",
    "    for key in values_counter.keys():\n",
    "        if values_counter[key] == 3:\n",
    "            triples.append(key)\n",
    "    if len(triples) != 0:\n",
    "        return np.sort(triples)\n",
    "    return 0\n",
    "\n",
    "def isFour(cards_array):\n",
    "    values_counter = Counter(cards_array.values)\n",
    "    for key in values_counter.keys():\n",
    "        if values_counter[key] == 4:\n",
    "            return key\n",
    "    return 0\n",
    "\n",
    "def isFullHouse(cards_array):\n",
    "    triples = isTriple(cards_array)\n",
    "    doubles = isDouble(cards_array)\n",
    "    if np.all(triples != 0) and np.all(doubles != 0):\n",
    "        return triples[-1]\n",
    "    return 0\n",
    "\n",
    "def isFlush(cards_array):\n",
    "    suits_counter = Counter(cards_array.suits)\n",
    "    for key in suits_counter.keys():\n",
    "        if suits_counter[key] >= 5:\n",
    "            flush_values = np.sort(cards_array.values[cards_array.suits == key])\n",
    "            return flush_values[:5]\n",
    "    return 0\n",
    "\n",
    "def isStraight(cards_array):\n",
    "    \n",
    "    sorted_cards = np.array(sorted(set(cards_array.values)))\n",
    "    sorted_cards -= np.arange(len(sorted_cards))\n",
    "    same_counter = Counter(sorted_cards)        \n",
    "    for key in same_counter.keys():\n",
    "        if same_counter[key] >= 5:\n",
    "            return (np.arange(same_counter[key],0,-1) + key)[:5]\n",
    "    return 0\n",
    "\n",
    "def isStraightFlush(cards_array):\n",
    "    flush = isFlush(cards_array)\n",
    "    if np.all(flush != 0):\n",
    "        return isStraight(card_array(cards_array.cards[np.isin(cards_array.values,flush)]))\n",
    "    return 0\n",
    "\n",
    "def isRoyalFlush(cards_array):\n",
    "    straight_flush = isStraightFlush(cards_array)\n",
    "    if np.all(straight_flush != 0):\n",
    "        if np.all(straight_flush[-5:] == np.arange(5)+10):\n",
    "            return np.arange(5)+10\n",
    "    return 0\n",
    "\n",
    "def getBestHand(cards_array):\n",
    "    combos = [isRoyalFlush(cards_array), isStraightFlush(cards_array), isFour(cards_array), isFullHouse(cards_array), isFlush(cards_array), isStraight(cards_array), isTriple(cards_array), isDouble(cards_array), cards_array.cards]\n",
    "    for ranking, combo in enumerate(combos):\n",
    "        if np.all(combo != 0):\n",
    "            # if triple\n",
    "            if ranking == 6:\n",
    "                high_singles = np.sort(cards_array.values[cards_array.values != combos[0]])[-2:]\n",
    "                return ranking, (combo[0], high_singles)\n",
    "            # if double\n",
    "            if ranking == 7:\n",
    "                # if two double\n",
    "                if len(combo) >= 2:\n",
    "                    not_double_value1 = cards_array.values != combo[-1]\n",
    "                    not_double_value2 = cards_array.values != combo[-2]\n",
    "                    high_single = np.sort(cards_array.values[np.logical_and(not_double_value1, not_double_value2)])[-1]\n",
    "                    return ranking, (combo[-2:], high_single)\n",
    "\n",
    "                high_singles = np.sort(cards_array.values[cards_array.values != combo[-1]])[-3:]\n",
    "                return ranking, (combo[-1], high_singles)\n",
    "            # if singles only\n",
    "            if ranking == 8:\n",
    "                return ranking, np.sort(cards_array.values)[-5:]\n",
    "\n",
    "            return ranking, combo "
   ]
  },
  {
   "cell_type": "code",
   "execution_count": 2,
   "metadata": {},
   "outputs": [
    {
     "ename": "NameError",
     "evalue": "name 'hand' is not defined",
     "output_type": "error",
     "traceback": [
      "\u001b[0;31m---------------------------------------------------------------------------\u001b[0m",
      "\u001b[0;31mNameError\u001b[0m                                 Traceback (most recent call last)",
      "Cell \u001b[0;32mIn[2], line 1\u001b[0m\n\u001b[0;32m----> 1\u001b[0m getBestHand(\u001b[43mhand\u001b[49m)\n",
      "\u001b[0;31mNameError\u001b[0m: name 'hand' is not defined"
     ]
    }
   ],
   "source": [
    "getBestHand(hand)"
   ]
  },
  {
   "cell_type": "code",
   "execution_count": 168,
   "metadata": {},
   "outputs": [
    {
     "data": {
      "text/plain": [
       "0"
      ]
     },
     "execution_count": 168,
     "metadata": {},
     "output_type": "execute_result"
    }
   ],
   "source": [
    "isFullHouse(hand)"
   ]
  },
  {
   "cell_type": "code",
   "execution_count": 100,
   "metadata": {},
   "outputs": [
    {
     "data": {
      "text/plain": [
       "array([Ace of Clubs, King of Clubs, 10 of Clubs, Jack of Clubs,\n",
       "       Queen of Clubs, 9 of Clubs], dtype=object)"
      ]
     },
     "execution_count": 100,
     "metadata": {},
     "output_type": "execute_result"
    }
   ],
   "source": [
    "np.array(hand.cards)[np.array(hand.suits) == \"Clubs\"]"
   ]
  },
  {
   "cell_type": "code",
   "execution_count": 144,
   "metadata": {},
   "outputs": [
    {
     "name": "stderr",
     "output_type": "stream",
     "text": [
      "<>:1: SyntaxWarning: \"is not\" with a literal. Did you mean \"!=\"?\n",
      "<>:1: SyntaxWarning: \"is not\" with a literal. Did you mean \"!=\"?\n",
      "/var/folders/nx/23kzl3_d08d89039y9hptpf40000gn/T/ipykernel_31199/2115302451.py:1: SyntaxWarning: \"is not\" with a literal. Did you mean \"!=\"?\n",
      "  hand.cards is not 0\n"
     ]
    },
    {
     "data": {
      "text/plain": [
       "True"
      ]
     },
     "execution_count": 144,
     "metadata": {},
     "output_type": "execute_result"
    }
   ],
   "source": [
    "hand.cards is not 0"
   ]
  },
  {
   "cell_type": "code",
   "execution_count": 125,
   "metadata": {},
   "outputs": [],
   "source": [
    "def do_nothing():\n",
    "    y = 1+1"
   ]
  },
  {
   "cell_type": "code",
   "execution_count": 127,
   "metadata": {},
   "outputs": [],
   "source": [
    "return1 = do_nothing()"
   ]
  },
  {
   "cell_type": "code",
   "execution_count": 46,
   "metadata": {},
   "outputs": [
    {
     "data": {
      "text/plain": [
       "array([11, 10,  9,  8,  7,  6,  5,  4])"
      ]
     },
     "execution_count": 46,
     "metadata": {},
     "output_type": "execute_result"
    }
   ],
   "source": [
    "(np.arange(8,0,-1) + 3)[:5]"
   ]
  },
  {
   "cell_type": "code",
   "execution_count": 210,
   "metadata": {},
   "outputs": [
    {
     "data": {
      "text/plain": [
       "array([ True,  True])"
      ]
     },
     "execution_count": 210,
     "metadata": {},
     "output_type": "execute_result"
    }
   ],
   "source": [
    "np.array([True, False]) == np.array([True, False])"
   ]
  },
  {
   "cell_type": "code",
   "execution_count": 148,
   "metadata": {},
   "outputs": [
    {
     "data": {
      "text/plain": [
       "True"
      ]
     },
     "execution_count": 148,
     "metadata": {},
     "output_type": "execute_result"
    }
   ],
   "source": [
    "np.all(p==0)"
   ]
  },
  {
   "cell_type": "code",
   "execution_count": 147,
   "metadata": {},
   "outputs": [],
   "source": []
  },
  {
   "cell_type": "code",
   "execution_count": 5,
   "metadata": {},
   "outputs": [],
   "source": [
    "import numpy as np\n",
    "import random"
   ]
  },
  {
   "cell_type": "code",
   "execution_count": 12,
   "metadata": {},
   "outputs": [],
   "source": [
    "num_players = 5\n",
    "rand_pos = random.randint(0, num_players-1)"
   ]
  },
  {
   "cell_type": "code",
   "execution_count": 23,
   "metadata": {},
   "outputs": [
    {
     "data": {
      "text/plain": [
       "array([[0., 1., 0., 0., 0.]])"
      ]
     },
     "execution_count": 23,
     "metadata": {},
     "output_type": "execute_result"
    }
   ],
   "source": [
    "np.eye(1, num_players, rand_pos)"
   ]
  },
  {
   "cell_type": "code",
   "execution_count": 22,
   "metadata": {},
   "outputs": [
    {
     "data": {
      "text/plain": [
       "array([[0., 0., 1., 0., 0.]])"
      ]
     },
     "execution_count": 22,
     "metadata": {},
     "output_type": "execute_result"
    }
   ],
   "source": [
    "np.eye(1, num_players, rand_pos+1 if rand_pos+1 <= num_players else 0)"
   ]
  },
  {
   "cell_type": "code",
   "execution_count": 21,
   "metadata": {},
   "outputs": [
    {
     "data": {
      "text/plain": [
       "array([[0., 0., 0., 1., 0.]])"
      ]
     },
     "execution_count": 21,
     "metadata": {},
     "output_type": "execute_result"
    }
   ],
   "source": [
    "np.eye(1, num_players, rand_pos+2 if rand_pos+2 <= num_players else rand_pos+2-num_players)"
   ]
  },
  {
   "cell_type": "code",
   "execution_count": 20,
   "metadata": {},
   "outputs": [
    {
     "data": {
      "text/plain": [
       "3"
      ]
     },
     "execution_count": 20,
     "metadata": {},
     "output_type": "execute_result"
    }
   ],
   "source": [
    "rand_pos+2 if rand_pos+2 <= num_players else rand_pos+2-num_players"
   ]
  },
  {
   "cell_type": "code",
   "execution_count": 19,
   "metadata": {},
   "outputs": [
    {
     "data": {
      "text/plain": [
       "False"
      ]
     },
     "execution_count": 19,
     "metadata": {},
     "output_type": "execute_result"
    }
   ],
   "source": [
    "rand_pos+2 >= num_players"
   ]
  },
  {
   "cell_type": "code",
   "execution_count": 1,
   "metadata": {},
   "outputs": [
    {
     "data": {
      "text/plain": [
       "[1, 2, 2]"
      ]
     },
     "execution_count": 1,
     "metadata": {},
     "output_type": "execute_result"
    }
   ],
   "source": [
    "[1,2] + [2]"
   ]
  },
  {
   "cell_type": "code",
   "execution_count": null,
   "metadata": {},
   "outputs": [],
   "source": []
  }
 ],
 "metadata": {
  "kernelspec": {
   "display_name": "Python 3.11.5 ('pokerRL')",
   "language": "python",
   "name": "python3"
  },
  "language_info": {
   "codemirror_mode": {
    "name": "ipython",
    "version": 3
   },
   "file_extension": ".py",
   "mimetype": "text/x-python",
   "name": "python",
   "nbconvert_exporter": "python",
   "pygments_lexer": "ipython3",
   "version": "3.9.18"
  },
  "orig_nbformat": 4,
  "vscode": {
   "interpreter": {
    "hash": "1708500d269b63431ea89f71f050295cfadbbf912cc1a386cef19049b13fc9c3"
   }
  }
 },
 "nbformat": 4,
 "nbformat_minor": 2
}

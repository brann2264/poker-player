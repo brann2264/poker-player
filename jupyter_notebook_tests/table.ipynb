{
 "cells": [
  {
   "cell_type": "code",
   "execution_count": 1,
   "metadata": {},
   "outputs": [],
   "source": [
    "import random\n",
    "import numpy as np\n",
    "\n",
    "class card:\n",
    "\n",
    "    def __init__(self, suit, value):\n",
    "        self.suit = suit\n",
    "        self.value = value\n",
    "        self.values = {14:\"Ace\", 13:\"King\", 12:\"Queen\", 11:\"Jack\", 10:\"10\", 9:\"9\", 8:\"8\", 7:\"7\", 6:\"6\", 5:\"5\", 4:\"4\", 3:\"3\", 2:\"2\"}\n",
    "    \n",
    "    def __eq__ (self, other):\n",
    "        return (self.value == other.value)\n",
    "\n",
    "    def __ne__ (self, other):\n",
    "        return (self.value != other.value)\n",
    "\n",
    "    def __lt__ (self, other):\n",
    "        return (self.value < other.value)\n",
    "\n",
    "    def __le__ (self, other):\n",
    "        return (self.value <= other.value)\n",
    "\n",
    "    def __gt__ (self, other):\n",
    "        return (self.value > other.value)\n",
    "\n",
    "    def __ge__ (self, other):\n",
    "        return (self.value >= other.value)\n",
    "    \n",
    "    def __add__ (self, int):\n",
    "        return card(self.suit, self.value+1)\n",
    "    \n",
    "    def __sub__ (self, int):\n",
    "        return card(self.suit, self.value-1)\n",
    "    \n",
    "    def __repr__(self):\n",
    "        return f'{self.values[self.value]} of {self.suit}'\n",
    "\n",
    "class deck:\n",
    "   \n",
    "    def __init__(self, randomize=True):\n",
    "        self.suits = {\"D\":\"Diamonds\", \"C\":\"Clubs\", \"H\": \"Hearts\", \"S\":\"Spades\"}\n",
    "        self.values = {14:\"Ace\", 13:\"King\", 12:\"Queen\", 11:\"Jack\", 10:\"10\", 9:\"9\", 8:\"8\", 7:\"7\", 6:\"6\", 5:\"5\", 4:\"4\", 3:\"3\", 2:\"2\"}\n",
    "        self.cards = np.array([])\n",
    "\n",
    "        self.shuffle_deck(randomize)\n",
    "    \n",
    "    def shuffle_deck(self, randomize=True):\n",
    "        self.cards = np.array([])\n",
    "        for value in self.values.keys():\n",
    "            for suit in self.suits.keys():\n",
    "                self.cards = np.append(self.cards, card(suit, value))\n",
    "        \n",
    "        if randomize:\n",
    "            np.random.shuffle(self.cards)\n",
    "\n",
    "        return self.cards\n",
    "    \n",
    "    def __repr__(self):\n",
    "        return f\"{self.cards}\"\n",
    "\n",
    "    def draw(self):\n",
    "        drawn_card = self.cards[0]\n",
    "        self.cards = self.cards[1:]\n",
    "        return drawn_card\n",
    "\n",
    "class player:\n",
    "\n",
    "    def __init__(self):\n",
    "        self.hand = np.array([])\n",
    "        self.money = 0\n",
    "        self.status = True\n",
    "        self.role = 4\n",
    "        self.action = False\n",
    "        self.high = None\n",
    "        # {1: Dealer, 2: Little Blind, 3: Big Blind, 4: Nothing}\n",
    "    \n",
    "    def call(self, deck):\n",
    "        self.money -= deck.call_amt\n",
    "\n",
    "    def fold(self):\n",
    "        self.status = False\n",
    "\n",
    "    def raise_money(self, board, raise_amt):\n",
    "        board.call_amt = raise_amt\n",
    "        self.money -= board.call_amt\n",
    "\n",
    "\n",
    "class board:\n",
    "\n",
    "    def __init__(self, deck, blind_amt, players, buy_in, call_amt=0):\n",
    "        self.cards = np.array([])\n",
    "        self.pot = 0\n",
    "        self.buy_in = buy_in\n",
    "        self.call_amt = 0\n",
    "        self.blind = blind_amt\n",
    "        self.players = players\n",
    "        self.deck = deck\n",
    "    \n",
    "    def show(self):\n",
    "        if len(self.cards) == 0:\n",
    "            num = 3\n",
    "        else:\n",
    "            num = 1    \n",
    "        for card in range(num):\n",
    "            self.cards = np.append(self.cards, self.deck.draw())\n",
    "        return self.cards\n",
    "    \n",
    "    def deal_hands(self):\n",
    "        for player in self.players:\n",
    "            player.hand = np.append(player.hand, [self.deck.draw(), self.deck.draw()])\n",
    "    \n",
    "    def reset(self):\n",
    "        for player in self.players:\n",
    "            player.hand = []\n",
    "        self.deck.shuffle_deck()\n",
    "        self.cards = []\n",
    "    \n",
    "    def card_sort(self, cards):\n",
    "        values_order = np.argsort(cards)[::-1]\n",
    "        suits_order = np.argsort(np.array([card.suit for card in cards[values_order]]))\n",
    "        \n",
    "        return cards, values_order, suits_order\n",
    "    \n",
    "    def player_board(self, player):\n",
    "        card_list = np.append(self.cards, player.hand)\n",
    "        string_list = [f\"{card.value}{card.suit}\" for card in card_list]\n",
    "        return \n",
    "\n",
    "    def isStraight(self, cards):\n",
    "        cards, values_order, _ = self.card_sort(cards)\n",
    "        \n",
    "        same = 0\n",
    "        for num in range(len(cards)-1):\n",
    "            if cards[values_order][num] == cards[values_order][num+1]+1:\n",
    "                same += 1\n",
    "                if same >= 4:\n",
    "                    return cards[values_order][num-3:num+2]\n",
    "            else:\n",
    "                same = 0\n",
    "    \n",
    "    def isStraight2(self, cards):\n",
    "        cards, values_order, _ = self.card_sort(cards)\n",
    "\n",
    "        in_row = cards[values_order][:-1] == cards[values_order][1:] + 1\n",
    "\n",
    "    def isFlush(self, cards):\n",
    "        cards, _, suits_order = self.card_sort(cards)\n",
    "        \n",
    "        same = 0\n",
    "        for num in range(len(cards)-1):\n",
    "            if cards[suits_order][num].suit == cards[suits_order][num+1].suit:\n",
    "                same += 1\n",
    "                if same >= 4:\n",
    "                    return cards[suits_order][num-3:num+2]\n",
    "            else:\n",
    "                same = 0\n",
    "\n",
    "    def isStraightFlush(self, cards):\n",
    "        cards, values_order, suits_order = self.card_sort(cards)\n",
    "\n",
    "        cards_in_order = np.array([])\n",
    "        for num in range(len(cards)-1):\n",
    "            if cards[values_order][num] == cards[values_order][num+1]+1:\n",
    "                cards_in_order = np.append(cards_in_order, cards[values_order][num])\n",
    "                print(cards_in_order)\n",
    "                if np.size(cards_in_order) >= 4:\n",
    "                    # Adds remaining cards if they are still consecutive\n",
    "                    while num < len(cards)-1 and cards[values_order][num] == cards[values_order][num+1]+1 :\n",
    "                        cards_in_order = np.append(cards_in_order, cards[values_order][num+1])\n",
    "                        num += 1\n",
    "                    break           \n",
    "            else:\n",
    "                cards_in_order = np.array([])\n",
    "        return self.isFlush(cards_in_order)\n",
    "    \n",
    "    def isRoyalFlush(self, cards):\n",
    "        if self.isStraightFlush(cards)[0].value == 14:\n",
    "            return self.isStraightFlush(cards)\n",
    "\n",
    "    def isFour(self, player):\n",
    "        card_values, _ = self.player_board(player)\n",
    "        high_single = 0\n",
    "        same_count = 0\n",
    "\n",
    "        for n in range(len(card_values)-1):\n",
    "            if card_values[n] == card_values[n+1]:\n",
    "                same_count += 1\n",
    "                if same_count == 3:\n",
    "                    #if four of a kind is the greatest four in array, the fifth in array is the high single\n",
    "                    if high_single == 0:\n",
    "                        high_single = card_values[n+2]\n",
    "                    return True, (card_values[n], high_single)\n",
    "            elif card_values[n] > high_single:\n",
    "                high_single = card_values[n]\n",
    "                same_count = 0\n",
    "            else:\n",
    "                same_count = 0\n",
    "        return False, None\n",
    "    \n",
    "    def isTriple(self, player):\n",
    "        card_values, _ = self.player_board(player)\n",
    "        same_count = 0\n",
    "        \n",
    "        for n in range(len(card_values)-1):\n",
    "            if card_values[n] == card_values[n+1]:\n",
    "                same_count += 1\n",
    "                if same_count == 2:\n",
    "                    return True, card_values[n]\n",
    "            else:\n",
    "                same_count = 0\n",
    "        return False, None\n",
    "    \n",
    "    def isDouble(self, player):\n",
    "        card_values, _ = self.player_board(player)\n",
    "        doubles = []\n",
    "        \n",
    "        for n in range(len(card_values)-1):\n",
    "            if card_values[n] == card_values[n+1]:\n",
    "                if same_count == 2:\n",
    "                    return True, card_values[n]\n",
    "            else:\n",
    "                same_count = 0\n",
    "        return False, None\n"
   ]
  },
  {
   "cell_type": "code",
   "execution_count": 2,
   "metadata": {},
   "outputs": [],
   "source": [
    "play_deck = deck()"
   ]
  },
  {
   "cell_type": "code",
   "execution_count": 4,
   "metadata": {},
   "outputs": [
    {
     "data": {
      "text/plain": [
       "array([8 of D, 6 of H, 2 of S, Ace of S, 8 of C, 4 of H, 9 of C, 4 of D,\n",
       "       5 of C, Jack of S, Jack of D, 4 of S, Jack of H, Queen of C,\n",
       "       4 of C, 8 of H, 5 of S, Ace of H, 6 of D, Jack of C, 6 of S,\n",
       "       King of S, 3 of S, 10 of D, 7 of D, Queen of H, 2 of C, 7 of S,\n",
       "       Ace of C, 3 of D, King of C, 8 of S, Ace of D, Queen of D, 3 of C,\n",
       "       10 of S, Queen of S, 5 of D, 2 of D, 2 of H, 9 of D, 9 of S,\n",
       "       6 of C, King of H, 9 of H, 3 of H, 7 of C, King of D, 7 of H,\n",
       "       10 of H, 10 of C, 5 of H], dtype=object)"
      ]
     },
     "execution_count": 4,
     "metadata": {},
     "output_type": "execute_result"
    }
   ],
   "source": [
    "play_deck.cards"
   ]
  },
  {
   "cell_type": "code",
   "execution_count": 456,
   "metadata": {},
   "outputs": [],
   "source": [
    "player1 = player()\n",
    "player2 = player()\n",
    "player3 = player()\n",
    "play_deck = deck(False)\n",
    "game_board = board(play_deck, 10, [player1, player2, player3], 500)\n",
    "game_board.deal_hands()"
   ]
  },
  {
   "cell_type": "code",
   "execution_count": 447,
   "metadata": {},
   "outputs": [
    {
     "data": {
      "text/plain": [
       "array([King of Hearts, King of Spades, Queen of Diamonds, Queen of Clubs,\n",
       "       Queen of Hearts], dtype=object)"
      ]
     },
     "execution_count": 447,
     "metadata": {},
     "output_type": "execute_result"
    }
   ],
   "source": [
    "game_board.show()"
   ]
  },
  {
   "cell_type": "code",
   "execution_count": 448,
   "metadata": {},
   "outputs": [
    {
     "data": {
      "text/plain": [
       "array([Queen of Spades, Jack of Spades, 10 of Spades, 9 of Spades,\n",
       "       8 of Spades], dtype=object)"
      ]
     },
     "execution_count": 448,
     "metadata": {},
     "output_type": "execute_result"
    }
   ],
   "source": [
    "player1.hand = play_deck.cards[0:17:4]\n",
    "player1.hand"
   ]
  },
  {
   "cell_type": "code",
   "execution_count": 449,
   "metadata": {},
   "outputs": [
    {
     "name": "stdout",
     "output_type": "stream",
     "text": [
      "[King of Hearts]\n",
      "[Queen of Diamonds]\n",
      "[Queen of Diamonds Jack of Spades]\n",
      "[Queen of Diamonds Jack of Spades 10 of Spades]\n",
      "[Queen of Diamonds Jack of Spades 10 of Spades 9 of Spades]\n"
     ]
    }
   ],
   "source": [
    "game_board.isStraightFlush(game_board.player_board(player1))"
   ]
  },
  {
   "cell_type": "code",
   "execution_count": 424,
   "metadata": {},
   "outputs": [
    {
     "data": {
      "text/plain": [
       "array([King of Hearts, Queen of Spades, 10 of Diamonds, 9 of Clubs],\n",
       "      dtype=object)"
      ]
     },
     "execution_count": 424,
     "metadata": {},
     "output_type": "execute_result"
    }
   ],
   "source": [
    "game_board.player_board(player1)"
   ]
  },
  {
   "cell_type": "code",
   "execution_count": 383,
   "metadata": {},
   "outputs": [
    {
     "data": {
      "text/plain": [
       "array([King of Spades, 8 of Spades, 7 of Clubs, 5 of Hearts,\n",
       "       3 of Diamonds], dtype=object)"
      ]
     },
     "execution_count": 383,
     "metadata": {},
     "output_type": "execute_result"
    }
   ],
   "source": [
    "c[v]"
   ]
  },
  {
   "cell_type": "code",
   "execution_count": 377,
   "metadata": {},
   "outputs": [
    {
     "data": {
      "text/plain": [
       "array([-2, -1, -4,  0, -3])"
      ]
     },
     "execution_count": 377,
     "metadata": {},
     "output_type": "execute_result"
    }
   ],
   "source": [
    "v"
   ]
  },
  {
   "cell_type": "markdown",
   "metadata": {},
   "source": []
  },
  {
   "cell_type": "code",
   "execution_count": 418,
   "metadata": {},
   "outputs": [
    {
     "name": "stdout",
     "output_type": "stream",
     "text": [
      "run\n"
     ]
    }
   ],
   "source": [
    "if function():\n",
    "    print(\"hi\")"
   ]
  },
  {
   "cell_type": "code",
   "execution_count": 263,
   "metadata": {},
   "outputs": [],
   "source": [
    "array = np.array([1, 2, 3 ,4, 5])"
   ]
  },
  {
   "cell_type": "code",
   "execution_count": 417,
   "metadata": {},
   "outputs": [],
   "source": [
    "def function():\n",
    "    print(\"run\")\n",
    "    return None\n",
    "\n",
    "def function2():\n",
    "    print(\"non\")"
   ]
  },
  {
   "cell_type": "code",
   "execution_count": 287,
   "metadata": {},
   "outputs": [
    {
     "name": "stdout",
     "output_type": "stream",
     "text": [
      "hi\n"
     ]
    }
   ],
   "source": [
    "if 2:\n",
    "    print(\"hi\")"
   ]
  },
  {
   "cell_type": "code",
   "execution_count": 299,
   "metadata": {},
   "outputs": [
    {
     "data": {
      "text/plain": [
       "array([3 of Club, 4 of Diamond], dtype=object)"
      ]
     },
     "execution_count": 299,
     "metadata": {},
     "output_type": "execute_result"
    }
   ],
   "source": [
    "np.sort([card(\"Diamond\", 4), card(\"Club\", 3)])"
   ]
  },
  {
   "cell_type": "code",
   "execution_count": 457,
   "metadata": {},
   "outputs": [
    {
     "data": {
      "text/plain": [
       "array([King of H, Queen of D, Queen of H, Jack of D, Jack of H, 10 of D,\n",
       "       10 of H, 9 of D, 9 of H], dtype=object)"
      ]
     },
     "execution_count": 457,
     "metadata": {},
     "output_type": "execute_result"
    }
   ],
   "source": [
    "card_list = play_deck.cards[0:17:2]\n",
    "card_list"
   ]
  },
  {
   "cell_type": "code",
   "execution_count": 481,
   "metadata": {},
   "outputs": [
    {
     "data": {
      "text/plain": [
       "array(['H', 'D', 'H', 'D', 'H', 'D', 'H', 'D', 'H'], dtype='<U21')"
      ]
     },
     "execution_count": 481,
     "metadata": {},
     "output_type": "execute_result"
    }
   ],
   "source": [
    "string_list = np.array([[card.value for card in card_list],[card.suit for card in card_list]])\n",
    "string_list[1, :]"
   ]
  },
  {
   "cell_type": "code",
   "execution_count": 476,
   "metadata": {},
   "outputs": [
    {
     "ename": "TypeError",
     "evalue": "only size-1 arrays can be converted to Python scalars",
     "output_type": "error",
     "traceback": [
      "\u001b[0;31m---------------------------------------------------------------------------\u001b[0m",
      "\u001b[0;31mTypeError\u001b[0m                                 Traceback (most recent call last)",
      "\u001b[1;32m/Users/brianchen/PersonalProjects/poker-player/test.ipynb Cell 17\u001b[0m in \u001b[0;36m<cell line: 1>\u001b[0;34m()\u001b[0m\n\u001b[0;32m----> <a href='vscode-notebook-cell:/Users/brianchen/PersonalProjects/poker-player/test.ipynb#ch0000016?line=0'>1</a>\u001b[0m \u001b[39mint\u001b[39;49m(string_list[\u001b[39m0\u001b[39;49m,:])\n",
      "\u001b[0;31mTypeError\u001b[0m: only size-1 arrays can be converted to Python scalars"
     ]
    }
   ],
   "source": [
    "int(string_list[0,:])"
   ]
  },
  {
   "cell_type": "code",
   "execution_count": 477,
   "metadata": {},
   "outputs": [
    {
     "data": {
      "text/plain": [
       "array([13, 12, 12, 11, 11, 10, 10,  9,  9])"
      ]
     },
     "execution_count": 477,
     "metadata": {},
     "output_type": "execute_result"
    }
   ],
   "source": [
    "string_list[:][0].astype(int)"
   ]
  },
  {
   "cell_type": "code",
   "execution_count": 464,
   "metadata": {},
   "outputs": [],
   "source": [
    "A = np.array([[card.value for card in card_list],[card.suit for card in card_list]])"
   ]
  },
  {
   "cell_type": "code",
   "execution_count": 475,
   "metadata": {},
   "outputs": [
    {
     "data": {
      "text/plain": [
       "[13, 12, 12, 11, 11, 10, 10, 9, 9]"
      ]
     },
     "execution_count": 475,
     "metadata": {},
     "output_type": "execute_result"
    }
   ],
   "source": [
    "[card.value for card in card_list]"
   ]
  },
  {
   "cell_type": "code",
   "execution_count": 4,
   "metadata": {},
   "outputs": [],
   "source": [
    "list1 = [1,2,3,4]"
   ]
  },
  {
   "cell_type": "code",
   "execution_count": 18,
   "metadata": {},
   "outputs": [],
   "source": [
    "var = 1"
   ]
  },
  {
   "cell_type": "code",
   "execution_count": 6,
   "metadata": {},
   "outputs": [
    {
     "name": "stdout",
     "output_type": "stream",
     "text": [
      "True\n"
     ]
    }
   ],
   "source": [
    "print(var in list1)"
   ]
  },
  {
   "cell_type": "code",
   "execution_count": 24,
   "metadata": {},
   "outputs": [
    {
     "data": {
      "text/plain": [
       "3"
      ]
     },
     "execution_count": 24,
     "metadata": {},
     "output_type": "execute_result"
    }
   ],
   "source": [
    "var = var+1 if var+1 != len(list1) else 0\n",
    "var"
   ]
  },
  {
   "cell_type": "code",
   "execution_count": 27,
   "metadata": {},
   "outputs": [
    {
     "data": {
      "text/plain": [
       "3"
      ]
     },
     "execution_count": 27,
     "metadata": {},
     "output_type": "execute_result"
    }
   ],
   "source": [
    "multiplier = 3 if var == 7 else 8\n",
    "multiplier"
   ]
  },
  {
   "cell_type": "code",
   "execution_count": 26,
   "metadata": {},
   "outputs": [],
   "source": [
    "var = 7"
   ]
  },
  {
   "cell_type": "code",
   "execution_count": null,
   "metadata": {},
   "outputs": [],
   "source": []
  }
 ],
 "metadata": {
  "kernelspec": {
   "display_name": "Python 3.11.5 ('pokerRL')",
   "language": "python",
   "name": "python3"
  },
  "language_info": {
   "codemirror_mode": {
    "name": "ipython",
    "version": 3
   },
   "file_extension": ".py",
   "mimetype": "text/x-python",
   "name": "python",
   "nbconvert_exporter": "python",
   "pygments_lexer": "ipython3",
   "version": "3.9.18"
  },
  "orig_nbformat": 4,
  "vscode": {
   "interpreter": {
    "hash": "1708500d269b63431ea89f71f050295cfadbbf912cc1a386cef19049b13fc9c3"
   }
  }
 },
 "nbformat": 4,
 "nbformat_minor": 2
}

{
 "cells": [
  {
   "cell_type": "code",
   "execution_count": 48,
   "metadata": {},
   "outputs": [],
   "source": [
    "import random\n",
    "import numpy as np\n",
    "\n",
    "class card:\n",
    "\n",
    "    def __init__(self, suit, value):\n",
    "        self.suit = suit\n",
    "        self.value = value\n",
    "        self.values = {14:\"Ace\", 13:\"King\", 12:\"Queen\", 11:\"Jack\", 10:\"10\", 9:\"9\", 8:\"8\", 7:\"7\", 6:\"6\", 5:\"5\", 4:\"4\", 3:\"3\", 2:\"2\"}\n",
    "    \n",
    "    def __eq__ (self, other):\n",
    "        return (self.value == other.value)\n",
    "\n",
    "    def __ne__ (self, other):\n",
    "        return (self.value != other.value)\n",
    "\n",
    "    def __lt__ (self, other):\n",
    "        return (self.value < other.value)\n",
    "\n",
    "    def __le__ (self, other):\n",
    "        return (self.value <= other.value)\n",
    "\n",
    "    def __gt__ (self, other):\n",
    "        return (self.value > other.value)\n",
    "\n",
    "    def __ge__ (self, other):\n",
    "        return (self.value >= other.value)\n",
    "    \n",
    "    def __add__ (self, int):\n",
    "        return card(self.suit, self.value+1)\n",
    "    \n",
    "    def __sub__ (self, int):\n",
    "        return card(self.suit, self.value-1)\n",
    "    \n",
    "    def __repr__(self):\n",
    "        return f'{self.values[self.value]} of {self.suit}'\n",
    "\n",
    "class deck:\n",
    "   \n",
    "    def __init__(self, randomize=True):\n",
    "        self.suits = {\"D\":\"Diamonds\", \"C\":\"Clubs\", \"H\": \"Hearts\", \"S\":\"Spades\"}\n",
    "        self.values = {14:\"Ace\", 13:\"King\", 12:\"Queen\", 11:\"Jack\", 10:\"10\", 9:\"9\", 8:\"8\", 7:\"7\", 6:\"6\", 5:\"5\", 4:\"4\", 3:\"3\", 2:\"2\"}\n",
    "        self.cards = np.array([])\n",
    "\n",
    "        self.shuffle_deck(randomize)\n",
    "    \n",
    "    def shuffle_deck(self, randomize=True):\n",
    "        self.cards = np.array([])\n",
    "        for value in self.values.keys():\n",
    "            for suit in self.suits.keys():\n",
    "                self.cards = np.append(self.cards, card(suit, value))\n",
    "        \n",
    "        if randomize:\n",
    "            np.random.shuffle(self.cards)\n",
    "\n",
    "        return self.cards\n",
    "    \n",
    "    def __repr__(self):\n",
    "        return f\"{self.cards}\"\n",
    "\n",
    "    def draw(self):\n",
    "        drawn_card = self.cards[0]\n",
    "        self.cards = self.cards[1:]\n",
    "        return drawn_card\n",
    "\n",
    "class player:\n",
    "\n",
    "    def __init__(self):\n",
    "        self.hand = np.array([])\n",
    "        self.money = 0\n",
    "        self.status = True\n",
    "        self.role = 4\n",
    "        self.action = False\n",
    "        self.high = None\n",
    "        # {1: Dealer, 2: Little Blind, 3: Big Blind, 4: Nothing}\n",
    "    \n",
    "    def call(self, deck):\n",
    "        self.money -= deck.call_amt\n",
    "\n",
    "    def fold(self):\n",
    "        self.status = False\n",
    "\n",
    "    def raise_money(self, board, raise_amt):\n",
    "        board.call_amt = raise_amt\n",
    "        self.money -= board.call_amt\n",
    "\n",
    "\n",
    "class board:\n",
    "\n",
    "    def __init__(self, deck, blind_amt=10, players=None, buy_in=1000, call_amt=0):\n",
    "        self.cards = np.array([])\n",
    "        self.pot = 0\n",
    "        self.buy_in = buy_in\n",
    "        self.call_amt = 0\n",
    "        self.blind = blind_amt\n",
    "        self.players = players\n",
    "        self.deck = deck\n",
    "    \n",
    "    def show(self):\n",
    "        if len(self.cards) == 0:\n",
    "            num = 3\n",
    "        else:\n",
    "            num = 1    \n",
    "        for card in range(num):\n",
    "            self.cards = np.append(self.cards, self.deck.draw())\n",
    "        return self.cards\n",
    "    \n",
    "    def deal_hands(self):\n",
    "        for player in self.players:\n",
    "            player.hand = np.append(player.hand, [self.deck.draw(), self.deck.draw()])\n",
    "    \n",
    "    def reset(self):\n",
    "        for player in self.players:\n",
    "            player.hand = []\n",
    "        self.deck.shuffle_deck()\n",
    "        self.cards = []\n",
    "    \n",
    "    def card_sort(self, cards):\n",
    "        values_order = np.argsort(cards[0,:].astype(int))[::-1]\n",
    "        suit_order = np.argsort(cards)[1,:]\n",
    "        \n",
    "        return cards, values_order, suit_order\n",
    "    \n",
    "    def player_board(self, player):\n",
    "        card_list = np.append(self.cards, player.hand)\n",
    "        string_list = np.array([[card.value for card in card_list],\n",
    "                                [card.suit for card in card_list]])\n",
    "        return string_list\n",
    "\n",
    "    def isStraight(self, cards):\n",
    "        cards, values_order, _ = self.card_sort(cards)\n",
    "       \n",
    "    \n",
    "    def isStraight2(self, cards):\n",
    "        cards, values_order, _ = self.card_sort(cards)\n",
    "\n",
    "        in_row = cards[values_order][:-1] == cards[values_order][1:] + 1\n",
    "\n",
    "    def isFlush(self, cards):\n",
    "        cards, _, suits_order = self.card_sort(cards)\n",
    "        \n",
    "        same = 0\n",
    "        for num in range(len(cards)-1):\n",
    "            if cards[suits_order][num].suit == cards[suits_order][num+1].suit:\n",
    "                same += 1\n",
    "                if same >= 4:\n",
    "                    return cards[suits_order][num-3:num+2]\n",
    "            else:\n",
    "                same = 0\n",
    "\n",
    "    def isStraightFlush(self, cards):\n",
    "        cards, values_order, suits_order = self.card_sort(cards)\n",
    "\n",
    "        cards_in_order = np.array([])\n",
    "        for num in range(len(cards)-1):\n",
    "            if cards[values_order][num] == cards[values_order][num+1]+1:\n",
    "                cards_in_order = np.append(cards_in_order, cards[values_order][num])\n",
    "                print(cards_in_order)\n",
    "                if np.size(cards_in_order) >= 4:\n",
    "                    # Adds remaining cards if they are still consecutive\n",
    "                    while num < len(cards)-1 and cards[values_order][num] == cards[values_order][num+1]+1 :\n",
    "                        cards_in_order = np.append(cards_in_order, cards[values_order][num+1])\n",
    "                        num += 1\n",
    "                    break           \n",
    "            else:\n",
    "                cards_in_order = np.array([])\n",
    "        return self.isFlush(cards_in_order)\n",
    "    \n",
    "    def isRoyalFlush(self, cards):\n",
    "        if self.isStraightFlush(cards)[0].value == 14:\n",
    "            return self.isStraightFlush(cards)\n",
    "\n",
    "    def isFour(self, player):\n",
    "        card_values, _ = self.player_board(player)\n",
    "        high_single = 0\n",
    "        same_count = 0\n",
    "\n",
    "        for n in range(len(card_values)-1):\n",
    "            if card_values[n] == card_values[n+1]:\n",
    "                same_count += 1\n",
    "                if same_count == 3:\n",
    "                    #if four of a kind is the greatest four in array, the fifth in array is the high single\n",
    "                    if high_single == 0:\n",
    "                        high_single = card_values[n+2]\n",
    "                    return True, (card_values[n], high_single)\n",
    "            elif card_values[n] > high_single:\n",
    "                high_single = card_values[n]\n",
    "                same_count = 0\n",
    "            else:\n",
    "                same_count = 0\n",
    "        return False, None\n",
    "    \n",
    "    def isTriple(self, player):\n",
    "        card_values, _ = self.player_board(player)\n",
    "        same_count = 0\n",
    "        \n",
    "        for n in range(len(card_values)-1):\n",
    "            if card_values[n] == card_values[n+1]:\n",
    "                same_count += 1\n",
    "                if same_count == 2:\n",
    "                    return True, card_values[n]\n",
    "            else:\n",
    "                same_count = 0\n",
    "        return False, None\n",
    "    \n",
    "    def isDouble(self, player):\n",
    "        card_values, _ = self.player_board(player)\n",
    "        doubles = []\n",
    "        \n",
    "        for n in range(len(card_values)-1):\n",
    "            if card_values[n] == card_values[n+1]:\n",
    "                if same_count == 2:\n",
    "                    return True, card_values[n]\n",
    "            else:\n",
    "                same_count = 0\n",
    "        return False, None\n"
   ]
  },
  {
   "cell_type": "code",
   "execution_count": 49,
   "metadata": {},
   "outputs": [],
   "source": [
    "player1 = player()\n",
    "play_deck = deck()\n",
    "_board = board(play_deck, players=[player1])"
   ]
  },
  {
   "cell_type": "code",
   "execution_count": 55,
   "metadata": {},
   "outputs": [
    {
     "data": {
      "text/plain": [
       "array([7 of C, King of H, Jack of H, 7 of S, 4 of D, Ace of H, 9 of S,\n",
       "       Queen of S], dtype=object)"
      ]
     },
     "execution_count": 55,
     "metadata": {},
     "output_type": "execute_result"
    }
   ],
   "source": [
    "_board.show()"
   ]
  },
  {
   "cell_type": "code",
   "execution_count": 56,
   "metadata": {},
   "outputs": [
    {
     "data": {
      "text/plain": [
       "array([['7', '13', '11', '7', '4', '14', '9', '12'],\n",
       "       ['C', 'H', 'H', 'S', 'D', 'H', 'S', 'S']], dtype='<U21')"
      ]
     },
     "execution_count": 56,
     "metadata": {},
     "output_type": "execute_result"
    }
   ],
   "source": [
    "_board.player_board(player1)"
   ]
  },
  {
   "cell_type": "code",
   "execution_count": 57,
   "metadata": {},
   "outputs": [],
   "source": [
    "c, v, s = _board.card_sort(_board.player_board(player1))"
   ]
  },
  {
   "cell_type": "code",
   "execution_count": 81,
   "metadata": {},
   "outputs": [],
   "source": [
    "a = np.unique(c[0,v].astype(int))"
   ]
  },
  {
   "cell_type": "code",
   "execution_count": 83,
   "metadata": {},
   "outputs": [
    {
     "data": {
      "text/plain": [
       "array([False, False, False,  True,  True,  True])"
      ]
     },
     "execution_count": 83,
     "metadata": {},
     "output_type": "execute_result"
    }
   ],
   "source": [
    "a[1:] == a[:-1] + 1"
   ]
  },
  {
   "cell_type": "code",
   "execution_count": 71,
   "metadata": {},
   "outputs": [],
   "source": []
  },
  {
   "cell_type": "code",
   "execution_count": 73,
   "metadata": {},
   "outputs": [
    {
     "data": {
      "text/plain": [
       "array(['C', 'D', 'H', 'H', 'H', 'S', 'S', 'S'], dtype='<U21')"
      ]
     },
     "execution_count": 73,
     "metadata": {},
     "output_type": "execute_result"
    }
   ],
   "source": []
  },
  {
   "cell_type": "code",
   "execution_count": null,
   "metadata": {},
   "outputs": [],
   "source": []
  }
 ],
 "metadata": {
  "kernelspec": {
   "display_name": "Python 3.11.5 ('pokerRL')",
   "language": "python",
   "name": "python3"
  },
  "language_info": {
   "codemirror_mode": {
    "name": "ipython",
    "version": 3
   },
   "file_extension": ".py",
   "mimetype": "text/x-python",
   "name": "python",
   "nbconvert_exporter": "python",
   "pygments_lexer": "ipython3",
   "version": "3.11.5"
  },
  "orig_nbformat": 4,
  "vscode": {
   "interpreter": {
    "hash": "1708500d269b63431ea89f71f050295cfadbbf912cc1a386cef19049b13fc9c3"
   }
  }
 },
 "nbformat": 4,
 "nbformat_minor": 2
}
